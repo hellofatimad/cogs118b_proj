{
 "cells": [
  {
   "cell_type": "markdown",
   "metadata": {},
   "source": [
    "# COGS 118B - Project Proposal"
   ]
  },
  {
   "cell_type": "markdown",
   "metadata": {},
   "source": [
    "# Names\n",
    "\n",
    "Hopefully your team is at least this good. Obviously you should replace these with your names.\n",
    "\n",
    "- Jonathan Ito\n",
    "- Daniel Kong\n",
    "- Larry Nguyen\n",
    "- Fatima Dong\n",
    "- Yuri Reyes"
   ]
  },
  {
   "cell_type": "markdown",
   "metadata": {},
   "source": [
    "# Abstract \n",
    "Our goal is to see if we can accurately predict songs' genres using text analysis on the lyrics. The data, in addition to the lyrics of top spotify songs, represents different aspects of a song, such as how many words are spoken, what kinds of instrumentals, or the energy levels. All of these said columns have decimal values that correspond to different levels for each song aspect. For example, a higher value (closer to 1) on the speechiness column indicates more spoken words. Regarding the lyrics, we will be performing text analysis, we will be performing PCA on the other labels that represent aspects of a song and see which ones correlate the strongest to a song's genre. We will measure our performance/success using clustering to see how accurate our predictions of song genres are."
   ]
  },
  {
   "cell_type": "markdown",
   "metadata": {},
   "source": [
    "# Background\n",
    "\n",
    "Some critical information that is necessary for this project is what are we using to classify what genre a song belongs to. As MoodMedia states, there hundreds if not thousands of musical genres that exist throughout the world <a name =\"source1\"></a>[<sup>[1]</sup>](#source1note). With all of these genres, it could be overwhelming to attempt to put a specific genre to any song. In this case, it is useful to pick out the biggest genres which is what MoodMedia did. They compiled a small list of genres that play a large influence to how music is today. This list comprises of genres like pop, jazz, hip hop, classical, country, etc. This information is useful to us as it would serve as a foundation for us as we begin our project.\n",
    "\n",
    "In terms of using machine learning to classify music, there has been past projects that aimed to complete this very task that we set out to do. Some attempt this by utilizing the wavelengths of the song itself to determine the genre. These projects start off with making general genres for classification. Then, they set the criteria for each genre for the machine to use when labelling a song with its genre. Next comes the identification portion. This implementation is different project to project. Some projects, like the one Despois did, take slices out of the song and try to determine the song after voting from multiple slices of the song <a name =\"source2\"></a>[<sup>[2]</sup>](#source2note). Others, like Haggblade, used the approach of testing multiple machine learning algorithms like k-Nearest Neighbors, k-Means, Multi-class support vector machine, and neural networks <a name =\"source3\"></a>[<sup>[3]</sup>](#source3note). From this paper, it seems like SVM and neural networks performed the best with neural networks performing outstandingly better than the rest of the methods. \n",
    "\n",
    "Additionally, there are also projects that try to classify songs based off their lyrics. Boonyanit and Dahl's approach for this problem was to use a Long Short-Term Memory approach. When using this approach, their best model achieved an accuracy of 68% <a name =\"source4\"></a>[<sup>[4]</sup>](#source4note). One approach they compared themselves to is neural networks used in Rajanna et al's paper which used a three layer neural network and achieved an accuracy of 74%<a name =\"source5\"></a>[<sup>[5]</sup>](#source5note). Another approach from Kumar et al achieved an accuracy of 80.16%, but is limited to only 4 genres<a name =\"source6\"></a>[<sup>[6]</sup>](#source6note). These projects are important as we can see what works well, what doesn't, and any possible limitations that we might have to overcome/face with our approach."
   ]
  },
  {
   "cell_type": "markdown",
   "metadata": {},
   "source": [
    "# Problem Statement\n",
    "\n",
    "The problem our group is solving is determing music genres given the lyrics of a song as well as other values such as its tempo, key, loudness, etc. This will involve using text/sentiment analysis on the lyrics and clustering with the other defined variables determine the different genres. Each song can be represented by a vector of some dimension, depending on how many variables are used. The problem to be solved is clustering these datapoints into discernable genres. Genres can be closer to some than others, and our clusters should reflect those nuances. Additionally, some songs may belong to multiple genres, so these songs will be harder to cluster as well. "
   ]
  },
  {
   "cell_type": "markdown",
   "metadata": {},
   "source": [
    "# Data\n",
    "\n",
    "A potential dataset we can use can be found at this link: https://www.kaggle.com/datasets/imuhammad/audio-features-and-lyrics-of-spotify-songs. This dataset contains 18454 observations and 25 variables. Each observation has an id, the song name, artist, popularity, and album, the lyrics of the song, as well as many aspects of the song like its danceability, energy, key, tempo, etc. The critical values in this dataset are the track name, artist, lyrics, and the different song characteristics. These are the variables that we will be using for our clustering. The track name, artist, and lyrics are all represented as strings. The song characteristics (tempo, key, valence, etc) are represented as floats (numbers). For all of the string values, we will likely need to make them uniform, such that they're all lowercase. We will also probably only want to look at songs that are in English. We will have to run text analysis on the song lyrics and categorize them, and then we can one-hot-encode those categories for our clustering. We will likely have to standardize the float values as some of the values for different variables are on different orders of magnitude, which can influence our result."
   ]
  },
  {
   "cell_type": "markdown",
   "metadata": {},
   "source": [
    "# Proposed Solution\n",
    "\n",
    "For this project, we plan to retrieve Spotify songs data and clean it. Handling missing values and ensuring consistency throughout the data if required. For the lyrics, we plan to extract relevant features from the lyrics to help record meaning. One way we can go about this is by using techniques like term frequency-inverse document frequency (TF-IDF). Another way could be by word embedding using Word2Vec or GloVe. We plan to utilize a clustering algorithm like hierarchical clustering to group sounds based on the categorizes we plan to discuss (e.g. danceability). \n",
    "\n",
    "As we're still in the early stages of the gorup project, not all details are set but it is likely that we will be using Python with libraries such as scikit-learn for clustering. Vizualization tools such as MAthplotlib or Seaborn will help us present our findings efficiently. For the lyrics, we will consider embedding models such as Word2Vec or transformer-based models like BERT."
   ]
  },
  {
   "cell_type": "markdown",
   "metadata": {},
   "source": [
    "# Evaluation Metrics\n",
    "\n",
    "Propose at least one evaluation metric that can be used to quantify the performance of both the benchmark model and the solution model. The evaluation metric(s) you propose should be appropriate given the context of the data, the problem statement, and the intended solution. Describe how the evaluation metric(s) are derived and provide an example of their mathematical representations (if applicable). Complex evaluation metrics should be clearly defined and quantifiable (can be expressed in mathematical or logical terms).\n",
    "\n",
    "As mentioned in the problem statement, we intend to do a classification of music genres based on sentiment analysis of lyrics and clustering based on features of each song, such as tempo, energy, etc. \n",
    "\n",
    "Our classification's evaluation metric will be on precision, recall, and F-1 scores<a name =\"source7\"></a>[<sup>[7]</sup>](#source7note). Based on our data, there are already genres included, so we can check our classification for actual true positives. Precision will be used to compare the true positives (tp) and false positives (fp), which is in this formula $\\frac{tp}{tp + fp}$. Recall will be used to compare the true positives and false negative(fn), which is in this formula $\\frac{tp}{tp + fn}$. As for F-1 scores, it provides a balanced measure based on precision and recall, which is shown in this formula: $\\frac{2 * recall * precision}{recall + precision}$. The reason why we decided not to use accuracy as an evaluation metric is because we want to take the data imbalance into consideration. \n",
    "\n",
    "Our clustering's evaluation metric will be on silhouette score. The silhouette score is a measure on how similar a sample is close to its own cluster compared to other clusters. The score is bounded by [-1,1], where a value of -1 means incorrect clustering, score 0 means overlapping clusters, and score 1 means highly dense clustering. The formula would be $\\frac{b-a}{max(a,b)}$, where $a$ represents the mean distance between a sample and all the other points in the same class and $b$ represents the mean distance between a sample and all the other points in the next nearest cluster."
   ]
  },
  {
   "cell_type": "markdown",
   "metadata": {},
   "source": [
    "# Ethics & Privacy"
   ]
  },
  {
   "cell_type": "markdown",
   "metadata": {},
   "source": [
    "One ethical concern that our project may run into is cultural sensitivity. This could be a concern since some songs touch upon either cultural issues or social issues. This means that the way we have to pay caution to how we label words when doing our lyrical analysis. Failure to do so can cause a mislabeling of genres or reinforcing any potential stereotypes that can unexpectingly come into play. We can try to avoid this by comparing different text sentiment data sets with each other so that we have a more generalized approach to the meaning of certain words. This would ensure that any cultural differences or social issues that could come from using only one source of word meaning would be dealt with. \n",
    "\n",
    "Another concern that our project might have is collection bias. This concern is more geared towards the songs we choose as if our collection is not diverse enough, then we would not know if our project is correctly doing its job in labelling songs. To combat this, we have to ensure that the songs we are choosing cover a multitude of genres to make sure that the project covers multiple genres and not a select few. "
   ]
  },
  {
   "cell_type": "markdown",
   "metadata": {},
   "source": [
    "# Team Expectations "
   ]
  },
  {
   "cell_type": "markdown",
   "metadata": {},
   "source": [
    "Put things here that cement how you will interact/communicate as a team, how you will handle conflict and difficulty, how you will handle making decisions and setting goals/schedule, how much work you expect from each other, how you will handle deadlines, etc...\n",
    "* *Meet every Tuesday at 4 pm*\n",
    "* *Every team meeting entitles going over next steps, assigning roles, and finalizing any upcoming submissions*\n",
    "* *Any conflicts or difficulties will be handled as a group in team meetings*"
   ]
  },
  {
   "cell_type": "markdown",
   "metadata": {},
   "source": [
    "# Project Timeline Proposal"
   ]
  },
  {
   "cell_type": "markdown",
   "metadata": {},
   "source": [
    "Replace this with something meaningful that is appropriate for your needs. It doesn't have to be something that fits this format.  It doesn't have to be set in stone... \"no battle plan survives contact with the enemy\". But you need a battle plan nonetheless, and you need to keep it updated so you understand what you are trying to accomplish, who's responsible for what, and what the expected due dates are for each item.\n",
    "\n",
    "| Meeting Date  | Meeting Time| Completed Before Meeting  | Discuss at Meeting |\n",
    "|---|---|---|---|\n",
    "| 2/19  |  12 PM |  Brainstorm topics/questions (all)  | Choose a topic for final project | \n",
    "| 2/27  |  4 PM |  Project Proposal | Assign work for everyone, Discuss cleaning and wrangling data, including analytical approaches | \n",
    "| 3/5  | 4 PM  | Data cleaned | Groups decide on how to approach clustering and classification aspects|\n",
    "| 3/12  | 4 PM  | Review clustering and Classification aspects | Start on evaluation metrics   |\n",
    "| 3/19  | 4 PM  | Complete evaluation metrics and analysis | Turn in Final Project |"
   ]
  },
  {
   "cell_type": "markdown",
   "metadata": {},
   "source": [
    "# Footnotes\n",
    "<a name =\"source1\"></a>[<sup>[1]</sup>](#source1note): https://us.moodmedia.com/blog/music-genres/\n",
    "\n",
    "<a name =\"source2\"></a>[<sup>[2]</sup>](#source2note): Despois, J. (2016, November 21). Finding the genre of a song with Deep Learning - A.I. Odyssey part. 1. HackerNoon. https://hackernoon.com/finding-the-genre-of-a-song-with-deep-learning-da8f59a61194 \n",
    "\n",
    "<a name =\"source3\"></a>[<sup>[3]</sup>](#source3note): Haggblade, M., Hong, Y., & Kao, K. (2011). Music Genre Classification.\n",
    "<a name =\"source4\"></a>[<sup>[4]</sup>](#source4note): Boonyanit, A., & Dahl, A. (n.d.). Music genre classification by lyrics using a hierarchical ... https://web.stanford.edu/class/archive/cs/cs224n/cs224n.1174/reports/2728368.pdf \n",
    "\n",
    "<a name =\"source5\"></a>[<sup>[5]</sup>](#source5note): A. R. Rajanna, K. Aryafar, A. Shokoufandeh and R. Ptucha, \"Deep Neural Networks: A Case Study for Music Genre Classification,\" 2015 IEEE 14th International Conference on Machine Learning and Applications (ICMLA), Miami, FL, USA, 2015, pp. 655-660, doi: 10.1109/ICMLA.2015.160. keywords: {Music;Spectrogram;Neural networks;Manifolds;Feature extraction;Support vector machines;Mel frequency cepstral coefficient},\n",
    "\n",
    "<a name =\"source6\"></a>[<sup>[6]</sup>](#source6note): Akshi Kumar, Arjun Rajpal, and Dushyant Rathore. Genre classification using word embeddings and deep learning. 2018 International Conference on Advances in Computing,Communications and Informatics(ICACCI), 2018.\n",
    "\n",
    "<a name =\"source7\"></a>[<sup>[7]</sup>](#source7note): https://scikit-learn.org/stable/modules/generated/sklearn.metrics.precision_recall_fscore_support.html#sklearn.metrics.precision_recall_fscore_support \n"
   ]
  },
  {
   "cell_type": "code",
   "execution_count": null,
   "metadata": {},
   "outputs": [],
   "source": []
  }
 ],
 "metadata": {
  "kernelspec": {
   "display_name": "Python 3 (ipykernel)",
   "language": "python",
   "name": "python3"
  },
  "language_info": {
   "codemirror_mode": {
    "name": "ipython",
    "version": 3
   },
   "file_extension": ".py",
   "mimetype": "text/x-python",
   "name": "python",
   "nbconvert_exporter": "python",
   "pygments_lexer": "ipython3",
   "version": "3.9.5"
  }
 },
 "nbformat": 4,
 "nbformat_minor": 4
}
